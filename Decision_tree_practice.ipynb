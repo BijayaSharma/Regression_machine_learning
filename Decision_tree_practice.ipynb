{
 "cells": [
  {
   "cell_type": "code",
   "execution_count": 178,
   "metadata": {},
   "outputs": [],
   "source": [
    "import numpy as np\n",
    "import pandas as pd\n",
    "from sklearn.model_selection import train_test_split\n",
    "from sklearn.tree import DecisionTreeClassifier\n",
    "from sklearn.metrics import accuracy_score\n",
    "from sklearn import tree\n",
    "from sklearn.metrics import confusion_matrix   ## these 3 confusion, f1_score, accuracy is to test how good is our model\n",
    "from sklearn.metrics import f1_score"
   ]
  },
  {
   "cell_type": "markdown",
   "metadata": {},
   "source": [
    "This example is taken from simplilearn tutorial videos \n",
    "\n",
    "It is about loan payment system for bank, based on the our model bank can decide whether it should approve loan request from the costumers or not.\n",
    "\n",
    "They are not using 5th columns for their model so I am also not doing, it is removed by them in their tutorial video.\n",
    "\n",
    "\n"
   ]
  },
  {
   "cell_type": "code",
   "execution_count": 179,
   "metadata": {},
   "outputs": [],
   "source": [
    "balance_data = pd.read_csv('Decision_Tree_ Dataset.csv',sep= ',', header= 0)"
   ]
  },
  {
   "cell_type": "code",
   "execution_count": 180,
   "metadata": {},
   "outputs": [
    {
     "name": "stdout",
     "output_type": "stream",
     "text": [
      "Dataset Length::  1000\n",
      "Dataset Shape::  (1000, 6)\n"
     ]
    }
   ],
   "source": [
    "print (\"Dataset Length:: \", len(balance_data))\n",
    "print (\"Dataset Shape:: \", balance_data.shape)"
   ]
  },
  {
   "cell_type": "code",
   "execution_count": 181,
   "metadata": {},
   "outputs": [
    {
     "name": "stdout",
     "output_type": "stream",
     "text": [
      "Dataset:: \n"
     ]
    },
    {
     "data": {
      "text/html": [
       "<div>\n",
       "<style scoped>\n",
       "    .dataframe tbody tr th:only-of-type {\n",
       "        vertical-align: middle;\n",
       "    }\n",
       "\n",
       "    .dataframe tbody tr th {\n",
       "        vertical-align: top;\n",
       "    }\n",
       "\n",
       "    .dataframe thead th {\n",
       "        text-align: right;\n",
       "    }\n",
       "</style>\n",
       "<table border=\"1\" class=\"dataframe\">\n",
       "  <thead>\n",
       "    <tr style=\"text-align: right;\">\n",
       "      <th></th>\n",
       "      <th>Initilal payment</th>\n",
       "      <th>Last payment</th>\n",
       "      <th>credit score</th>\n",
       "      <th>house number</th>\n",
       "      <th>total sum</th>\n",
       "      <th>Result</th>\n",
       "    </tr>\n",
       "  </thead>\n",
       "  <tbody>\n",
       "    <tr>\n",
       "      <th>0</th>\n",
       "      <td>201</td>\n",
       "      <td>10018</td>\n",
       "      <td>250</td>\n",
       "      <td>3046</td>\n",
       "      <td>13515</td>\n",
       "      <td>yes</td>\n",
       "    </tr>\n",
       "    <tr>\n",
       "      <th>1</th>\n",
       "      <td>205</td>\n",
       "      <td>10016</td>\n",
       "      <td>395</td>\n",
       "      <td>3044</td>\n",
       "      <td>13660</td>\n",
       "      <td>yes</td>\n",
       "    </tr>\n",
       "    <tr>\n",
       "      <th>2</th>\n",
       "      <td>257</td>\n",
       "      <td>10129</td>\n",
       "      <td>109</td>\n",
       "      <td>3251</td>\n",
       "      <td>13746</td>\n",
       "      <td>yes</td>\n",
       "    </tr>\n",
       "    <tr>\n",
       "      <th>3</th>\n",
       "      <td>246</td>\n",
       "      <td>10064</td>\n",
       "      <td>324</td>\n",
       "      <td>3137</td>\n",
       "      <td>13771</td>\n",
       "      <td>yes</td>\n",
       "    </tr>\n",
       "    <tr>\n",
       "      <th>4</th>\n",
       "      <td>117</td>\n",
       "      <td>10115</td>\n",
       "      <td>496</td>\n",
       "      <td>3094</td>\n",
       "      <td>13822</td>\n",
       "      <td>yes</td>\n",
       "    </tr>\n",
       "  </tbody>\n",
       "</table>\n",
       "</div>"
      ],
      "text/plain": [
       "   Initilal payment   Last payment   credit score   house number   total sum  \\\n",
       "0               201          10018            250           3046       13515   \n",
       "1               205          10016            395           3044       13660   \n",
       "2               257          10129            109           3251       13746   \n",
       "3               246          10064            324           3137       13771   \n",
       "4               117          10115            496           3094       13822   \n",
       "\n",
       "   Result  \n",
       "0     yes  \n",
       "1     yes  \n",
       "2     yes  \n",
       "3     yes  \n",
       "4     yes  "
      ]
     },
     "execution_count": 181,
     "metadata": {},
     "output_type": "execute_result"
    }
   ],
   "source": [
    "print (\"Dataset:: \")\n",
    "balance_data.head()\n",
    "\n",
    "# result here means returned loan or not of past data"
   ]
  },
  {
   "cell_type": "code",
   "execution_count": 186,
   "metadata": {},
   "outputs": [],
   "source": [
    "X = balance_data.values[:, :4]\n",
    "#print(X)\n",
    "Y = balance_data.values[:, 5]"
   ]
  },
  {
   "cell_type": "code",
   "execution_count": 187,
   "metadata": {},
   "outputs": [],
   "source": [
    "#print(balance_data)"
   ]
  },
  {
   "cell_type": "code",
   "execution_count": 183,
   "metadata": {},
   "outputs": [],
   "source": [
    "X_train, X_test, y_train, y_test = train_test_split( X, Y, test_size = 0.2, random_state = 100)"
   ]
  },
  {
   "cell_type": "code",
   "execution_count": 168,
   "metadata": {},
   "outputs": [
    {
     "data": {
      "text/plain": [
       "DecisionTreeClassifier(criterion='entropy', max_depth=3, min_samples_leaf=5,\n",
       "                       random_state=100)"
      ]
     },
     "execution_count": 168,
     "metadata": {},
     "output_type": "execute_result"
    }
   ],
   "source": [
    "clf_entropy = DecisionTreeClassifier(criterion = \"entropy\", random_state = 100,max_depth=3, min_samples_leaf=5)\n",
    "clf_entropy.fit(X_train, y_train)\n"
   ]
  },
  {
   "cell_type": "markdown",
   "metadata": {},
   "source": [
    "1. max_depth = maximum depth of the tree, 3 means the nodes are expanded to 3 decision nodes. It helps to lower the risk of over fitting or makes less complex tree\n",
    "2.min_samples_leaf means the minimum no.of samples required to be at a leaf node. A split point at any depth will only be considered if it leaves at least min_samples_leaf training samples."
   ]
  },
  {
   "cell_type": "code",
   "execution_count": 169,
   "metadata": {},
   "outputs": [
    {
     "name": "stdout",
     "output_type": "stream",
     "text": [
      "<class 'numpy.ndarray'>\n",
      "[[104 12125 700 3138]\n",
      " [351 11140 965 4127]\n",
      " [204 13439 191 3720]\n",
      " [276 12290 478 3923]\n",
      " [326 13167 381 3826]\n",
      " [237 11197 580 3340]\n",
      " [287 12863 678 3516]\n",
      " [457 11931 932 4292]\n",
      " [101 14811 877 4410]\n",
      " [316 14790 333 4236]\n",
      " [258 14371 126 3265]\n",
      " [251 14100 530 3838]\n",
      " [245 11833 202 3212]\n",
      " [106 13372 265 4466]\n",
      " [440 13941 492 3575]\n",
      " [247 12000 328 4245]\n",
      " [286 10713 819 4671]\n",
      " [325 14201 279 4721]\n",
      " [498 11421 407 4116]\n",
      " [177 13540 236 4047]\n",
      " [369 14601 666 4270]\n",
      " [438 10317 947 4171]\n",
      " [498 14355 163 4616]\n",
      " [180 10806 388 3224]\n",
      " [370 11302 365 3251]\n",
      " [429 14404 162 3050]\n",
      " [153 14016 866 4210]\n",
      " [166 10100 233 4123]\n",
      " [423 12682 406 4180]\n",
      " [103 14895 496 3255]\n",
      " [250 14996 621 3964]\n",
      " [157 10372 801 4320]\n",
      " [480 11743 508 3012]\n",
      " [185 11072 502 4436]\n",
      " [481 12517 403 3017]\n",
      " [183 14528 356 3435]\n",
      " [214 13255 796 4338]\n",
      " [445 12726 827 4411]\n",
      " [428 11654 167 3321]\n",
      " [196 12258 350 4362]\n",
      " [366 10762 773 3688]\n",
      " [276 11978 106 3187]\n",
      " [165 11017 439 4268]\n",
      " [440 13094 113 3688]\n",
      " [430 13020 350 4494]\n",
      " [379 10076 806 4669]\n",
      " [309 12496 822 4137]\n",
      " [422 10372 765 3737]\n",
      " [483 14276 737 3807]\n",
      " [121 12416 216 4514]\n",
      " [252 10471 508 4382]\n",
      " [222 13204 787 4778]\n",
      " [345 12585 549 3251]\n",
      " [477 10644 737 4551]\n",
      " [439 11152 149 4159]\n",
      " [277 10503 313 3476]\n",
      " [483 12474 635 4774]\n",
      " [432 12468 815 3858]\n",
      " [164 13003 651 4758]\n",
      " [385 10900 311 4450]\n",
      " [420 10569 647 3168]\n",
      " [275 13696 584 3020]\n",
      " [318 12534 433 4148]\n",
      " [289 10127 140 3742]\n",
      " [259 12167 667 4487]\n",
      " [211 12837 318 3490]\n",
      " [233 10662 780 3394]\n",
      " [398 10176 626 4353]\n",
      " [363 13522 107 3285]\n",
      " [369 11642 192 4860]\n",
      " [337 12409 144 4784]\n",
      " [191 14065 123 3060]\n",
      " [493 14551 693 3933]\n",
      " [206 10158 703 4817]\n",
      " [414 12645 435 4622]\n",
      " [144 10529 114 3700]\n",
      " [409 10762 317 4673]\n",
      " [397 13219 608 4932]\n",
      " [283 12190 225 3852]\n",
      " [295 14308 337 4177]\n",
      " [146 12810 271 4926]\n",
      " [112 14648 323 3664]\n",
      " [212 13528 635 3813]\n",
      " [265 10949 281 3120]\n",
      " [412 12630 145 4517]\n",
      " [208 11264 678 4768]\n",
      " [126 13353 917 4089]\n",
      " [400 11557 876 5000]\n",
      " [246 10176 717 3079]\n",
      " [182 13897 293 3683]\n",
      " [227 12475 134 3916]\n",
      " [168 11119 163 3830]\n",
      " [380 12108 980 3949]\n",
      " [425 10011 725 3496]\n",
      " [359 11498 910 3851]\n",
      " [123 13341 231 3986]\n",
      " [124 10386 600 4343]\n",
      " [378 11089 431 3338]\n",
      " [352 11437 472 3926]\n",
      " [101 10758 543 4980]\n",
      " [211 12651 246 4893]\n",
      " [431 14007 623 4341]\n",
      " [422 10380 924 4284]\n",
      " [382 11436 985 4606]\n",
      " [442 13266 965 4328]\n",
      " [478 10679 787 4256]\n",
      " [110 10236 467 4953]\n",
      " [488 11618 811 4081]\n",
      " [359 14202 427 3399]\n",
      " [421 12173 447 4095]\n",
      " [201 10699 618 3949]\n",
      " [170 11274 129 3854]\n",
      " [273 11196 605 3712]\n",
      " [318 13120 147 4702]\n",
      " [458 14060 132 4272]\n",
      " [481 11907 393 3633]\n",
      " [310 10215 255 3761]\n",
      " [201 10961 579 4311]\n",
      " [451 14992 235 4037]\n",
      " [452 12001 242 4424]\n",
      " [165 14046 173 4770]\n",
      " [374 14459 192 4637]\n",
      " [482 12356 713 3454]\n",
      " [222 11798 996 3601]\n",
      " [250 14754 394 4785]\n",
      " [396 12147 765 4076]\n",
      " [358 11283 388 3476]\n",
      " [241 11958 563 3639]\n",
      " [414 13900 108 4646]\n",
      " [224 13924 825 3720]\n",
      " [424 11533 221 3114]\n",
      " [380 11660 430 3257]\n",
      " [187 14561 302 4797]\n",
      " [102 11011 384 3748]\n",
      " [124 10782 773 4492]\n",
      " [441 11370 272 4984]\n",
      " [499 13008 660 3846]\n",
      " [444 10246 945 3933]\n",
      " [397 12006 978 3521]\n",
      " [465 13057 189 4134]\n",
      " [222 13037 954 4710]\n",
      " [252 10852 564 4703]\n",
      " [500 11219 469 4968]\n",
      " [391 10401 478 4557]\n",
      " [233 14254 238 3747]\n",
      " [126 10330 845 4328]\n",
      " [255 11474 232 3283]\n",
      " [497 10057 475 3253]\n",
      " [267 10993 980 3962]\n",
      " [474 13961 638 4090]\n",
      " [174 12830 495 3491]\n",
      " [480 13514 363 4641]\n",
      " [359 14423 927 4838]\n",
      " [229 14030 577 3263]\n",
      " [444 14081 941 3805]\n",
      " [371 11547 331 4756]\n",
      " [244 13900 714 4390]\n",
      " [377 11654 912 4927]\n",
      " [160 13354 330 4248]\n",
      " [351 10265 476 4275]\n",
      " [328 11488 845 4761]\n",
      " [257 14442 722 4512]\n",
      " [100 12328 395 3643]\n",
      " [419 11040 283 4733]\n",
      " [166 13080 738 4423]\n",
      " [375 11006 887 4452]\n",
      " [297 11989 979 4654]\n",
      " [499 10942 535 4871]\n",
      " [382 13689 334 4761]\n",
      " [266 13954 245 4751]\n",
      " [281 12352 138 4340]\n",
      " [465 10005 566 4722]\n",
      " [388 14353 637 3971]\n",
      " [193 10413 236 4361]\n",
      " [409 14140 679 3974]\n",
      " [117 11620 232 3037]\n",
      " [368 11050 731 3709]\n",
      " [131 14864 920 3369]\n",
      " [478 12162 317 4580]\n",
      " [230 13070 438 4380]\n",
      " [362 12879 367 3991]\n",
      " [200 14099 776 3655]\n",
      " [411 11252 643 4098]\n",
      " [248 12397 985 4779]\n",
      " [277 13677 404 4001]\n",
      " [110 11253 662 3181]\n",
      " [163 11316 913 3888]\n",
      " [124 11261 309 3312]\n",
      " [242 12271 582 3823]\n",
      " [198 10777 811 3765]\n",
      " [473 14219 567 4822]\n",
      " [136 10658 883 4087]\n",
      " [335 13784 571 4473]\n",
      " [422 11975 970 3588]\n",
      " [393 11990 953 4439]\n",
      " [306 12413 947 4618]\n",
      " [445 12715 460 4453]\n",
      " [145 11821 222 3068]\n",
      " [228 10080 401 3642]\n",
      " [199 13775 150 4765]]\n"
     ]
    }
   ],
   "source": [
    "print(type(X_test))\n",
    "print(X_test)"
   ]
  },
  {
   "cell_type": "code",
   "execution_count": 170,
   "metadata": {},
   "outputs": [
    {
     "name": "stdout",
     "output_type": "stream",
     "text": [
      "['yes' 'yes' 'No' 'yes' 'No' 'yes' 'yes' 'No' 'No' 'No' 'No' 'No' 'yes'\n",
      " 'No' 'No' 'No' 'yes' 'No' 'yes' 'No' 'No' 'yes' 'No' 'yes' 'yes' 'No'\n",
      " 'No' 'yes' 'No' 'No' 'No' 'yes' 'yes' 'yes' 'yes' 'No' 'No' 'No' 'yes'\n",
      " 'No' 'yes' 'yes' 'yes' 'yes' 'No' 'yes' 'No' 'yes' 'No' 'No' 'yes' 'No'\n",
      " 'yes' 'yes' 'yes' 'yes' 'No' 'yes' 'No' 'yes' 'yes' 'No' 'No' 'yes' 'No'\n",
      " 'yes' 'yes' 'yes' 'No' 'yes' 'No' 'No' 'No' 'yes' 'No' 'yes' 'yes' 'No'\n",
      " 'yes' 'No' 'No' 'No' 'No' 'yes' 'No' 'yes' 'No' 'yes' 'yes' 'No' 'yes'\n",
      " 'yes' 'yes' 'yes' 'yes' 'No' 'yes' 'yes' 'yes' 'yes' 'No' 'No' 'yes'\n",
      " 'yes' 'No' 'yes' 'yes' 'yes' 'No' 'No' 'yes' 'yes' 'yes' 'No' 'No' 'yes'\n",
      " 'yes' 'yes' 'No' 'No' 'No' 'No' 'yes' 'yes' 'No' 'yes' 'yes' 'yes' 'No'\n",
      " 'No' 'yes' 'yes' 'No' 'yes' 'yes' 'yes' 'No' 'yes' 'yes' 'No' 'No' 'yes'\n",
      " 'yes' 'yes' 'No' 'yes' 'yes' 'yes' 'yes' 'No' 'yes' 'No' 'No' 'No' 'No'\n",
      " 'yes' 'No' 'yes' 'No' 'yes' 'yes' 'No' 'yes' 'yes' 'No' 'yes' 'No' 'yes'\n",
      " 'No' 'No' 'No' 'yes' 'No' 'yes' 'No' 'yes' 'yes' 'No' 'No' 'No' 'No' 'No'\n",
      " 'yes' 'No' 'No' 'yes' 'yes' 'yes' 'yes' 'yes' 'No' 'yes' 'No' 'yes' 'No'\n",
      " 'No' 'No' 'yes' 'yes' 'No']\n"
     ]
    }
   ],
   "source": [
    "y_pred_en = clf_entropy.predict(X_test)\n",
    "print(y_pred_en)"
   ]
  },
  {
   "cell_type": "code",
   "execution_count": 171,
   "metadata": {},
   "outputs": [
    {
     "name": "stdout",
     "output_type": "stream",
     "text": [
      "Accuracy is 93.0 % \n"
     ]
    }
   ],
   "source": [
    "print (\"Accuracy is {} % \" .format(accuracy_score(y_test,y_pred_en)*100))\n",
    "\n",
    "## Based on this accuracy score the bank can decide whether it can approve the loan request from the customer or not."
   ]
  },
  {
   "cell_type": "code",
   "execution_count": 172,
   "metadata": {},
   "outputs": [
    {
     "name": "stdout",
     "output_type": "stream",
     "text": [
      "[[  250 10000   500  3456]]\n",
      "['yes']\n"
     ]
    }
   ],
   "source": [
    "## just trying my self to test with individual person \n",
    "\n",
    "## say a person has initial payment 250,  last payment 10000, credit score 500 & house number 3456\n",
    "## then I can predict whether person will pay loan or not in the following way\n",
    "\n",
    "mm = np.array([250, 10000, 500, 3456])\n",
    "print(mm.reshape((1,-1)))\n",
    "\n",
    "y_pred_ex = clf_entropy.predict(mm.reshape((1,-1)))\n",
    "print(y_pred_ex)\n",
    "\n",
    "## write random function with seed and check yes or no "
   ]
  },
  {
   "cell_type": "code",
   "execution_count": 173,
   "metadata": {},
   "outputs": [
    {
     "name": "stdout",
     "output_type": "stream",
     "text": [
      "[[  199 13775   150  4765]]\n",
      "['No']\n"
     ]
    }
   ],
   "source": [
    "mm = np.array([199, 13775, 150, 4765])\n",
    "print(mm.reshape((1,-1)))\n",
    "\n",
    "y_pred_ex = clf_entropy.predict(mm.reshape((1,-1)))\n",
    "print(y_pred_ex)"
   ]
  },
  {
   "cell_type": "code",
   "execution_count": 174,
   "metadata": {},
   "outputs": [
    {
     "name": "stdout",
     "output_type": "stream",
     "text": [
      "200\n",
      "102\n",
      "98\n"
     ]
    }
   ],
   "source": [
    "print(len(y_test))\n",
    "print(len(y_test[y_test == 'yes']))\n",
    "print(len(y_test[y_test == 'No']))"
   ]
  },
  {
   "cell_type": "code",
   "execution_count": 175,
   "metadata": {},
   "outputs": [
    {
     "name": "stdout",
     "output_type": "stream",
     "text": [
      "200\n",
      "106\n",
      "94\n"
     ]
    }
   ],
   "source": [
    "print(len(y_pred_en))\n",
    "print(len(y_pred_en[y_pred_en == 'yes']))\n",
    "print(len(y_pred_en[y_pred_en == 'No']))"
   ]
  },
  {
   "cell_type": "code",
   "execution_count": 176,
   "metadata": {},
   "outputs": [
    {
     "name": "stdout",
     "output_type": "stream",
     "text": [
      "[[89  9]\n",
      " [ 5 97]]\n"
     ]
    }
   ],
   "source": [
    "cm = confusion_matrix(y_test, y_pred_en)\n",
    "print (cm)"
   ]
  },
  {
   "cell_type": "code",
   "execution_count": null,
   "metadata": {},
   "outputs": [],
   "source": []
  },
  {
   "cell_type": "markdown",
   "metadata": {},
   "source": [
    "The F1 score can be interpreted as a harmonic mean of the precision and recall, where an F1 score reaches its best value at 1 and worst score at 0. The relative contribution of precision and recall to the F1 score are equal. The formula for the F1 score is:\n",
    "\n",
    "F1 = 2 * (precision * recall) / (precision + recall)"
   ]
  },
  {
   "cell_type": "code",
   "execution_count": 167,
   "metadata": {},
   "outputs": [
    {
     "name": "stdout",
     "output_type": "stream",
     "text": [
      "0.9377990430622011\n",
      "0.9319371727748691\n"
     ]
    }
   ],
   "source": [
    "print(f1_score(y_test, y_pred_en, pos_label = 'yes'))  # precision score only for \"yes\" label\n",
    "print(f1_score(y_test, y_pred_en, pos_label = 'No'))  # precision score only for \"No\" label"
   ]
  },
  {
   "cell_type": "code",
   "execution_count": null,
   "metadata": {},
   "outputs": [],
   "source": []
  },
  {
   "cell_type": "code",
   "execution_count": null,
   "metadata": {},
   "outputs": [],
   "source": []
  }
 ],
 "metadata": {
  "kernelspec": {
   "display_name": "Python 3 (ipykernel)",
   "language": "python",
   "name": "python3"
  },
  "language_info": {
   "codemirror_mode": {
    "name": "ipython",
    "version": 3
   },
   "file_extension": ".py",
   "mimetype": "text/x-python",
   "name": "python",
   "nbconvert_exporter": "python",
   "pygments_lexer": "ipython3",
   "version": "3.8.5"
  }
 },
 "nbformat": 4,
 "nbformat_minor": 2
}
